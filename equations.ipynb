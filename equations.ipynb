{
 "cells": [
  {
   "attachments": {},
   "cell_type": "markdown",
   "metadata": {},
   "source": [
    "1. $X_0 = 0$\n",
    "2. For any $0<t_1<...<t_n$ \\\n",
    "the random variables $(X_{t_1},X_{t_2}-X_{t_1},...,X_{t_n}-X_{t_{n-1}})$ \\\n",
    "are independent\n",
    "3. For any $0<s<t$ the increment $X_t - X_s$ is a normal random variable with: \\\n",
    "mean $\\mathbb{E}(X_t - X_s) = 0$ and \\\n",
    "variance $\\mathbb{E}((X_t - X_s)^2) - \\mathbb{E}(X_t - X_s)^2 = t-s$\n",
    "\n",
    "\n",
    "$$ dS_t = \\mu S_t dt + \\sigma S_t W_t $$"
   ]
  },
  {
   "attachments": {},
   "cell_type": "markdown",
   "metadata": {},
   "source": [
    "$$ dS_t = \\mu(t, S_t) dt + \\sigma(t, S_t) W_t $$"
   ]
  },
  {
   "attachments": {},
   "cell_type": "markdown",
   "metadata": {},
   "source": [
    "$$ \\begin{align}  \n",
    "h_T = max(S_T-E, 0)\n",
    "\\end{align}$$"
   ]
  },
  {
   "attachments": {},
   "cell_type": "markdown",
   "metadata": {},
   "source": [
    "$$ \\begin{align}  \n",
    "C_t = e^{-r(T-t)} \\cdot \\mathbb{E}\\left\\{ max(S_T-E, 0) \\right\\}\n",
    "\\end{align}$$"
   ]
  },
  {
   "attachments": {},
   "cell_type": "markdown",
   "metadata": {},
   "source": [
    "$$ Q(T)=\\lim_{n \\to \\inf} \\sum_{j=0}^{n-1}(W_{j+1} - W_{j})^2 = T$$"
   ]
  },
  {
   "attachments": {},
   "cell_type": "markdown",
   "metadata": {},
   "source": [
    "$$ \\begin{align}  \n",
    "dW_tdW_t &= dt  \\\\\n",
    "dW_tdt &= 0 \\\\\n",
    "dtdt &= 0 \n",
    "\\end{align}$$"
   ]
  },
  {
   "attachments": {},
   "cell_type": "markdown",
   "metadata": {},
   "source": [
    "$$ \\int_{0}^{t}Y_sdX_s = \\lim_{n \\to \\infty} \\sum_{i=1}^{n} Y_{t_{i-1}} (X_{t_{i}} - X_{t_{i-1}}) $$"
   ]
  },
  {
   "attachments": {},
   "cell_type": "markdown",
   "metadata": {},
   "source": [
    "$$ \\begin{align}  \n",
    "\n",
    "Var(\\int_{0}^{t}Y_sdX_s) &= \\mathbb{E}\\left\\{\\left(\\int_{0}^{t}Y_sdX_s\\right)^2\\right\\} - \\mathbb{E}\\left\\{\\int_{0}^{t}Y_sdX_s\\right\\}^2 \\\\\n",
    "\n",
    "Var(\\int_{0}^{t}Y_sdX_s)&= \\mathbb{E}\\left\\{\\left(\\int_{0}^{t}Y_sdX_s\\right)^2\\right\\} \\\\\n",
    "\n",
    "Var(\\int_{0}^{t}Y_sdX_s)&= \\mathbb{E}\\left\\{\\lim_{n \\to \\infty} \\sum_{i=1}^{n} Y_{t_{i-1}}^2 (X_{t_{i}} - X_{t_{i-1}})^2\\right\\} \\\\\n",
    "\n",
    "Var(\\int_{0}^{t}Y_sdX_s)&= \\mathbb{E}\\left\\{\\lim_{n \\to \\infty} \\sum_{i=1}^{n} Y_{t_{i-1}}^2 (t_i - t_{i-1})\\right\\} \\\\\n",
    "\n",
    "Var(\\int_{0}^{t}Y_sdX_s)&= \\mathbb{E}\\left\\{\\int_{0}^{t}Y_s^2ds\\right\\}\n",
    "\n",
    "\\end{align} $$"
   ]
  },
  {
   "attachments": {},
   "cell_type": "markdown",
   "metadata": {},
   "source": [
    "$$ \\mathbb{E}\\left\\{\\left(\\int_{0}^{t}Y_sdX_s\\right)^2\\right\\} = \\mathbb{E}\\left\\{\\int_{0}^{t}Y_s^2ds\\right\\} $$"
   ]
  },
  {
   "attachments": {},
   "cell_type": "markdown",
   "metadata": {},
   "source": [
    "$$ f(x)-f(a) \\approx \\frac{f'(a)}{1!}(x-a) + \\frac{f''(a)}{2!}(x-a)^2 $$"
   ]
  },
  {
   "attachments": {},
   "cell_type": "markdown",
   "metadata": {},
   "source": [
    "$$ \n",
    "\n",
    "df(t, S_t) \\approx \n",
    "\\frac{\\partial f}{\\partial t}dt +\n",
    "\\frac{\\partial f}{\\partial S}dS_t +\n",
    "\\frac{1}{2} \\frac{\\partial^2 f}{\\partial t^2}(dt)^2 +\n",
    "\\frac{1}{2} \\frac{\\partial^2 f}{\\partial S^2}(S_t)^2 +\n",
    "\\frac{\\partial^2 f}{\\partial t \\partial S}dtdS_t\n",
    "$$"
   ]
  },
  {
   "attachments": {},
   "cell_type": "markdown",
   "metadata": {},
   "source": [
    "$$ \\begin{align}  \n",
    "\n",
    "df(t, S_t) &\\approx \n",
    "\\frac{\\partial f}{\\partial t}dt +\n",
    "\\frac{\\partial f}{\\partial S} (\\mu(t, S_t)dt + \\sigma(t, S_t)dX_t) + \n",
    "\\frac{1}{2} \\frac{\\partial^2 f}{\\partial t^2}(dt)^2 \n",
    "\\\\ &\\phantom{{}=1} + \n",
    "\\frac{1}{2} (\\mu(t, S_t)dt + \\sigma(t, S_t)dX_t)^2 \\frac{\\partial^2 f}{\\partial S^2} \n",
    "\\\\ &\\phantom{{}=1} +\n",
    "\\frac{\\partial^2 f}{\\partial t \\partial S}dt (\\mu(t, S_t)dt + \\sigma(t, S_t)dX_t) \\\\\n",
    "\n",
    "\n",
    "df(t, S_t) &\\approx \n",
    "\\frac{\\partial f}{\\partial t}dt +\n",
    "\\frac{\\partial f}{\\partial S} (\\mu(t, S_t)dt + \\sigma(t, S_t)dX_t) + \n",
    "\\frac{1}{2} \\frac{\\partial^2 f}{\\partial t^2}(dt)^2 \n",
    "\n",
    "\\\\ &\\phantom{{}=1} + \n",
    "\\frac{1}{2} \n",
    "(\\mu(t, S_t)^2dt^2 + 2\\mu(t, S_t)2dt\\sigma(t, S_t)dX_t + \\sigma(t, S_t)^2dX_t^2) \n",
    "\\frac{\\partial^2 f}{\\partial S^2} \n",
    "\n",
    "\\\\ &\\phantom{{}=1} +\n",
    "\\frac{\\partial^2 f}{\\partial t \\partial S}dt (\\mu(t, S_t)dt + \\sigma(t, S_t)dX_t)\n",
    "\n",
    "\\end{align}  \n",
    "$$"
   ]
  },
  {
   "attachments": {},
   "cell_type": "markdown",
   "metadata": {},
   "source": [
    "$$  \n",
    "\n",
    "df(t, S_t) =\n",
    "\\left(\n",
    "\\frac{\\partial f}{\\partial t} +\n",
    "\\mu(t, S_t) \\frac{\\partial f}{\\partial S} +\n",
    "\\frac{1}{2} \\sigma^2(t, S_t) \\frac{\\partial^2 f}{\\partial S^2}\n",
    "\\right)dt +\n",
    "\\sigma(t, S_t) \\frac{\\partial f}{\\partial S} dX_t\n",
    "\n",
    "$$"
   ]
  },
  {
   "attachments": {},
   "cell_type": "markdown",
   "metadata": {},
   "source": [
    "$$\n",
    "\n",
    "df = d(\\ln(S_t)) = \\left( \\mu - \\frac{\\sigma^2}{2} \\right) dt + \\sigma dX_t\n",
    "\n",
    "$$"
   ]
  },
  {
   "attachments": {},
   "cell_type": "markdown",
   "metadata": {},
   "source": [
    "$$\n",
    "\\begin{align}\n",
    "\n",
    "\\int_{0}^{t} d(\\ln(S_t)) &= \\int_{0}^{t} \\left( \\mu - \\frac{\\sigma^2}{2} \\right) dt + \\sigma dX_t \\\\\n",
    "\n",
    "\\ln(S_t) - \\ln(S_0) &= \\left( \\mu - \\frac{\\sigma^2}{2} \\right)(t-0) + \\sigma (X_t - X_0)\n",
    "\n",
    "\\end{align}\n",
    "$$"
   ]
  },
  {
   "attachments": {},
   "cell_type": "markdown",
   "metadata": {},
   "source": [
    "$$\n",
    "\n",
    "S_t = S_0 e^{\\mu - \\frac{1}{2} \\sigma^2 + \\sigma X_t }\n",
    "\n",
    "$$"
   ]
  },
  {
   "attachments": {},
   "cell_type": "markdown",
   "metadata": {},
   "source": [
    "$$\n",
    "\n",
    "\\ln(\\frac{S_t}{S_0}) \\sim \\mathcal{N} \\left( \\mu - \\frac{\\sigma^2}{2} \\right)t, \\sigma^2t)\n",
    "\n",
    "$$"
   ]
  },
  {
   "attachments": {},
   "cell_type": "markdown",
   "metadata": {},
   "source": [
    "$$ \\Delta S_t = \\mu S_t \\Delta t + \\sigma S_t \\Delta X_t $$"
   ]
  },
  {
   "attachments": {},
   "cell_type": "markdown",
   "metadata": {},
   "source": [
    "$$  \n",
    "\n",
    "\\Delta C =\n",
    "\\left(\n",
    "\\frac{\\partial C}{\\partial t} +\n",
    "\\frac{\\partial C}{\\partial S} \\mu S_t +\n",
    "\\frac{1}{2} \\sigma^2 S_t^2 \\frac{\\partial^2 C}{\\partial S^2}\n",
    "\\right)\\Delta t +\n",
    "\\frac{\\partial C}{\\partial S} \\sigma S_t \\Delta X_t\n",
    "\n",
    "$$"
   ]
  },
  {
   "attachments": {},
   "cell_type": "markdown",
   "metadata": {},
   "source": [
    "$$ \\Pi = -1 \\sdot \\text{Option} + \\frac{\\partial C}{\\partial S} \\sdot \\text{Stocks} $$"
   ]
  },
  {
   "attachments": {},
   "cell_type": "markdown",
   "metadata": {},
   "source": [
    "$$ \\Delta \\Pi = - \\Delta C + \\frac{\\partial C}{\\partial S} \\Delta S_t $$"
   ]
  },
  {
   "attachments": {},
   "cell_type": "markdown",
   "metadata": {},
   "source": [
    "$$ \\begin{align}  \n",
    "\n",
    "\\Delta \\Pi &=\n",
    "\n",
    "-\n",
    "\\left(\n",
    "\\frac{\\partial C}{\\partial t} +\n",
    "\\frac{\\partial C}{\\partial S} \\mu S_t +\n",
    "\\frac{1}{2} \\sigma^2 S_t^2 \\frac{\\partial^2 C}{\\partial S^2}\n",
    "\\right)\\Delta t \n",
    "-\n",
    "\\frac{\\partial C}{\\partial S} \\sigma S_t \\Delta X_t\n",
    "\n",
    "+\n",
    "\\frac{\\partial C}{\\partial S}\n",
    "\\mu S_t \\Delta t + \n",
    "\\frac{\\partial C}{\\partial S}\n",
    "\\sigma S_t \\Delta X_t\n",
    "\n",
    "\\\\&=\n",
    "-\n",
    "\\frac{\\partial C}{\\partial t} \\Delta t \n",
    "-\n",
    "\\frac{\\partial C}{\\partial S} \\mu S_t \\Delta t  \n",
    "-\n",
    "\\frac{1}{2} \\sigma^2 S_t^2 \\frac{\\partial^2 C}{\\partial S^2} \\Delta t \n",
    "-\n",
    "\\frac{\\partial C}{\\partial S} \\sigma S_t \\Delta X_t\n",
    "\n",
    "+\n",
    "\\frac{\\partial C}{\\partial S}\n",
    "\\mu S_t \\Delta t + \n",
    "\\frac{\\partial C}{\\partial S}\n",
    "\\sigma S_t \\Delta X_t\n",
    "\n",
    "\n",
    "\\\\&=\n",
    "\\left(\n",
    "-\\frac{\\partial C}{\\partial t}\n",
    "-\\frac{1}{2} \\sigma^2 S_t^2 \\frac{\\partial^2 C}{\\partial S^2}\n",
    "\\right)\\Delta t\n",
    "\n",
    "\n",
    "\n",
    "\n",
    "\\end{align}  \n",
    "$$"
   ]
  },
  {
   "attachments": {},
   "cell_type": "markdown",
   "metadata": {},
   "source": [
    "$$ \\Delta \\Pi = r \\Pi  \\Delta t  $$"
   ]
  },
  {
   "attachments": {},
   "cell_type": "markdown",
   "metadata": {},
   "source": [
    "$$ \n",
    "\n",
    "\\left(\n",
    "\\frac{\\partial C}{\\partial t}\n",
    "+\\frac{1}{2} \\sigma^2 S_t^2 \\frac{\\partial^2 C}{\\partial S^2}\n",
    "\\right)\\Delta t\n",
    "\n",
    "=\n",
    "\n",
    "r\n",
    "\\left(\n",
    "C\n",
    "-\\frac{\\partial C}{\\partial S} S_t \n",
    "\\right)\\Delta t\n",
    "\n",
    "\n",
    "$$"
   ]
  },
  {
   "attachments": {},
   "cell_type": "markdown",
   "metadata": {},
   "source": [
    "$$ \n",
    "\\frac{\\partial C}{\\partial t}\n",
    "+\n",
    "r\n",
    "\\frac{\\partial C}{\\partial S} S_t \n",
    "+\n",
    "\\frac{1}{2} \\sigma^2 S_t^2 \\frac{\\partial^2 C}{\\partial S^2}\n",
    "\n",
    "=\n",
    "\n",
    "r\n",
    "C\n",
    "$$"
   ]
  },
  {
   "attachments": {},
   "cell_type": "markdown",
   "metadata": {},
   "source": [
    "$$ \\begin{align}  \n",
    "\n",
    "C(S_t, t)\n",
    "&=\n",
    "N(d_+)S_t - N(d_-) E e^{-r(T-t)}\\\\\n",
    "\n",
    "d_+\n",
    "&=\n",
    "\\frac{1}{\\sigma \\sqrt{T-t}} \\left[ \\ln \\left( \\frac{S_t}{E} \\right) + \\left( r+\\frac{\\sigma^2}{2} \\right) (T-t) \\right]\\\\\n",
    "\n",
    "d_-\n",
    "&=\n",
    "d_+ - \\sigma \\sqrt{T-t}\n",
    "\n",
    "\n",
    "\\end{align}  \n",
    "$$"
   ]
  }
 ],
 "metadata": {
  "kernelspec": {
   "display_name": "general_3.8_x86",
   "language": "python",
   "name": "python3"
  },
  "language_info": {
   "codemirror_mode": {
    "name": "ipython",
    "version": 3
   },
   "file_extension": ".py",
   "mimetype": "text/x-python",
   "name": "python",
   "nbconvert_exporter": "python",
   "pygments_lexer": "ipython3",
   "version": "3.8.15"
  },
  "orig_nbformat": 4
 },
 "nbformat": 4,
 "nbformat_minor": 2
}
